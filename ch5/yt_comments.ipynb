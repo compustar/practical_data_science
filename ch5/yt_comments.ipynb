{
  "nbformat": 4,
  "nbformat_minor": 0,
  "metadata": {
    "colab": {
      "name": "yt_comments.ipynb",
      "provenance": [],
      "collapsed_sections": []
    },
    "kernelspec": {
      "name": "python3",
      "display_name": "Python 3"
    },
    "accelerator": "GPU"
  },
  "cells": [
    {
      "cell_type": "markdown",
      "metadata": {
        "id": "1Ulujg1BtQrC"
      },
      "source": [
        "1. Prepare the [Sentenance Transformers](https://github.com/UKPLab/sentence-transformers) package"
      ]
    },
    {
      "cell_type": "code",
      "metadata": {
        "id": "uiXBDDgpP9n7",
        "outputId": "395b7553-4c53-4467-d04d-fa4c3c905681",
        "colab": {
          "base_uri": "https://localhost:8080/",
          "height": 802
        }
      },
      "source": [
        "!pip install -U sentence-transformers"
      ],
      "execution_count": null,
      "outputs": [
        {
          "output_type": "stream",
          "text": [
            "Collecting sentence-transformers\n",
            "\u001b[?25l  Downloading https://files.pythonhosted.org/packages/ce/4b/0add07b1eebbbe83e77fb5ac4e72e87046c3fc2c9cb16f7d1cd8c6921a1d/sentence-transformers-0.3.7.2.tar.gz (59kB)\n",
            "\u001b[K     |████████████████████████████████| 61kB 1.8MB/s \n",
            "\u001b[?25hCollecting transformers<3.4.0,>=3.1.0\n",
            "\u001b[?25l  Downloading https://files.pythonhosted.org/packages/19/22/aff234f4a841f8999e68a7a94bdd4b60b4cebcfeca5d67d61cd08c9179de/transformers-3.3.1-py3-none-any.whl (1.1MB)\n",
            "\u001b[K     |████████████████████████████████| 1.1MB 7.1MB/s \n",
            "\u001b[?25hRequirement already satisfied, skipping upgrade: tqdm in /usr/local/lib/python3.6/dist-packages (from sentence-transformers) (4.41.1)\n",
            "Requirement already satisfied, skipping upgrade: torch>=1.2.0 in /usr/local/lib/python3.6/dist-packages (from sentence-transformers) (1.6.0+cu101)\n",
            "Requirement already satisfied, skipping upgrade: numpy in /usr/local/lib/python3.6/dist-packages (from sentence-transformers) (1.18.5)\n",
            "Requirement already satisfied, skipping upgrade: scikit-learn in /usr/local/lib/python3.6/dist-packages (from sentence-transformers) (0.22.2.post1)\n",
            "Requirement already satisfied, skipping upgrade: scipy in /usr/local/lib/python3.6/dist-packages (from sentence-transformers) (1.4.1)\n",
            "Requirement already satisfied, skipping upgrade: nltk in /usr/local/lib/python3.6/dist-packages (from sentence-transformers) (3.2.5)\n",
            "Collecting sentencepiece!=0.1.92\n",
            "\u001b[?25l  Downloading https://files.pythonhosted.org/packages/d4/a4/d0a884c4300004a78cca907a6ff9a5e9fe4f090f5d95ab341c53d28cbc58/sentencepiece-0.1.91-cp36-cp36m-manylinux1_x86_64.whl (1.1MB)\n",
            "\u001b[K     |████████████████████████████████| 1.1MB 16.9MB/s \n",
            "\u001b[?25hRequirement already satisfied, skipping upgrade: packaging in /usr/local/lib/python3.6/dist-packages (from transformers<3.4.0,>=3.1.0->sentence-transformers) (20.4)\n",
            "Requirement already satisfied, skipping upgrade: dataclasses; python_version < \"3.7\" in /usr/local/lib/python3.6/dist-packages (from transformers<3.4.0,>=3.1.0->sentence-transformers) (0.7)\n",
            "Requirement already satisfied, skipping upgrade: requests in /usr/local/lib/python3.6/dist-packages (from transformers<3.4.0,>=3.1.0->sentence-transformers) (2.23.0)\n",
            "Collecting tokenizers==0.8.1.rc2\n",
            "\u001b[?25l  Downloading https://files.pythonhosted.org/packages/80/83/8b9fccb9e48eeb575ee19179e2bdde0ee9a1904f97de5f02d19016b8804f/tokenizers-0.8.1rc2-cp36-cp36m-manylinux1_x86_64.whl (3.0MB)\n",
            "\u001b[K     |████████████████████████████████| 3.0MB 25.2MB/s \n",
            "\u001b[?25hRequirement already satisfied, skipping upgrade: filelock in /usr/local/lib/python3.6/dist-packages (from transformers<3.4.0,>=3.1.0->sentence-transformers) (3.0.12)\n",
            "Collecting sacremoses\n",
            "\u001b[?25l  Downloading https://files.pythonhosted.org/packages/7d/34/09d19aff26edcc8eb2a01bed8e98f13a1537005d31e95233fd48216eed10/sacremoses-0.0.43.tar.gz (883kB)\n",
            "\u001b[K     |████████████████████████████████| 890kB 42.6MB/s \n",
            "\u001b[?25hRequirement already satisfied, skipping upgrade: regex!=2019.12.17 in /usr/local/lib/python3.6/dist-packages (from transformers<3.4.0,>=3.1.0->sentence-transformers) (2019.12.20)\n",
            "Requirement already satisfied, skipping upgrade: future in /usr/local/lib/python3.6/dist-packages (from torch>=1.2.0->sentence-transformers) (0.16.0)\n",
            "Requirement already satisfied, skipping upgrade: joblib>=0.11 in /usr/local/lib/python3.6/dist-packages (from scikit-learn->sentence-transformers) (0.16.0)\n",
            "Requirement already satisfied, skipping upgrade: six in /usr/local/lib/python3.6/dist-packages (from nltk->sentence-transformers) (1.15.0)\n",
            "Requirement already satisfied, skipping upgrade: pyparsing>=2.0.2 in /usr/local/lib/python3.6/dist-packages (from packaging->transformers<3.4.0,>=3.1.0->sentence-transformers) (2.4.7)\n",
            "Requirement already satisfied, skipping upgrade: certifi>=2017.4.17 in /usr/local/lib/python3.6/dist-packages (from requests->transformers<3.4.0,>=3.1.0->sentence-transformers) (2020.6.20)\n",
            "Requirement already satisfied, skipping upgrade: urllib3!=1.25.0,!=1.25.1,<1.26,>=1.21.1 in /usr/local/lib/python3.6/dist-packages (from requests->transformers<3.4.0,>=3.1.0->sentence-transformers) (1.24.3)\n",
            "Requirement already satisfied, skipping upgrade: chardet<4,>=3.0.2 in /usr/local/lib/python3.6/dist-packages (from requests->transformers<3.4.0,>=3.1.0->sentence-transformers) (3.0.4)\n",
            "Requirement already satisfied, skipping upgrade: idna<3,>=2.5 in /usr/local/lib/python3.6/dist-packages (from requests->transformers<3.4.0,>=3.1.0->sentence-transformers) (2.10)\n",
            "Requirement already satisfied, skipping upgrade: click in /usr/local/lib/python3.6/dist-packages (from sacremoses->transformers<3.4.0,>=3.1.0->sentence-transformers) (7.1.2)\n",
            "Building wheels for collected packages: sentence-transformers, sacremoses\n",
            "  Building wheel for sentence-transformers (setup.py) ... \u001b[?25l\u001b[?25hdone\n",
            "  Created wheel for sentence-transformers: filename=sentence_transformers-0.3.7.2-cp36-none-any.whl size=91190 sha256=7c8d91f54ac1500b9dfff3d5966ad75ebb5e5331b48a3f996f0898d8131921ef\n",
            "  Stored in directory: /root/.cache/pip/wheels/4b/8f/23/7f93e91176acc7c2d651b54fa9f01e3624a47904145c4d133e\n",
            "  Building wheel for sacremoses (setup.py) ... \u001b[?25l\u001b[?25hdone\n",
            "  Created wheel for sacremoses: filename=sacremoses-0.0.43-cp36-none-any.whl size=893257 sha256=cd7549a535f63e454eef26f1ada2847c89075c08b630dabd560fbb666db4749a\n",
            "  Stored in directory: /root/.cache/pip/wheels/29/3c/fd/7ce5c3f0666dab31a50123635e6fb5e19ceb42ce38d4e58f45\n",
            "Successfully built sentence-transformers sacremoses\n",
            "Installing collected packages: sentencepiece, tokenizers, sacremoses, transformers, sentence-transformers\n",
            "Successfully installed sacremoses-0.0.43 sentence-transformers-0.3.7.2 sentencepiece-0.1.91 tokenizers-0.8.1rc2 transformers-3.3.1\n"
          ],
          "name": "stdout"
        }
      ]
    },
    {
      "cell_type": "markdown",
      "metadata": {
        "id": "dbcw2uBytivg"
      },
      "source": [
        "Compare encoded vector with cosine distance"
      ]
    },
    {
      "cell_type": "code",
      "metadata": {
        "id": "hi6Y5fLDK0-Q",
        "outputId": "2be980dc-1c86-4966-a7b8-3e178611f94f",
        "colab": {
          "base_uri": "https://localhost:8080/",
          "height": 68
        }
      },
      "source": [
        "from scipy.spatial import distance\n",
        "from sentence_transformers import SentenceTransformer\n",
        "transformer = SentenceTransformer('distilbert-base-nli-stsb-mean-tokens')\n",
        "print(distance.cosine(transformer.encode('I wanna go home'), transformer.encode('I am going home')))\n",
        "print(distance.cosine(transformer.encode('I wanna go home'), transformer.encode('I am leaving')))\n"
      ],
      "execution_count": null,
      "outputs": [
        {
          "output_type": "stream",
          "text": [
            "100%|██████████| 245M/245M [00:11<00:00, 21.8MB/s]\n"
          ],
          "name": "stderr"
        },
        {
          "output_type": "stream",
          "text": [
            "0.11797666549682617\n",
            "0.5040630102157593\n"
          ],
          "name": "stdout"
        }
      ]
    },
    {
      "cell_type": "markdown",
      "metadata": {
        "id": "YYDkXo1btrDH"
      },
      "source": [
        "Vector arithmetics"
      ]
    },
    {
      "cell_type": "code",
      "metadata": {
        "id": "24iP5Tz7i9tq",
        "outputId": "ebcebbec-cf90-4840-be09-116f108af588",
        "colab": {
          "base_uri": "https://localhost:8080/",
          "height": 34
        }
      },
      "source": [
        "distance.cosine(transformer.encode('Queen'), transformer.encode('King') - transformer.encode('Male') + transformer.encode('Female'))"
      ],
      "execution_count": null,
      "outputs": [
        {
          "output_type": "execute_result",
          "data": {
            "text/plain": [
              "0.24157464504241943"
            ]
          },
          "metadata": {
            "tags": []
          },
          "execution_count": 3
        }
      ]
    },
    {
      "cell_type": "markdown",
      "metadata": {
        "id": "vTx8WgUNtIuJ"
      },
      "source": [
        "Mount Google Drive to save the result"
      ]
    },
    {
      "cell_type": "code",
      "metadata": {
        "id": "MiPrm4MZMFFj",
        "outputId": "568b8ea8-e307-4c3d-e377-03f7bdea4a5d",
        "colab": {
          "base_uri": "https://localhost:8080/",
          "height": 34
        }
      },
      "source": [
        "from google.colab import drive\n",
        "drive.mount('/content/gdrive')"
      ],
      "execution_count": null,
      "outputs": [
        {
          "output_type": "stream",
          "text": [
            "Mounted at /content/gdrive\n"
          ],
          "name": "stdout"
        }
      ]
    },
    {
      "cell_type": "code",
      "metadata": {
        "id": "WvpPm-KvOUDa"
      },
      "source": [
        "!mkdir -p \"/content/gdrive/My Drive/Colab Data/ch5\""
      ],
      "execution_count": null,
      "outputs": []
    },
    {
      "cell_type": "code",
      "metadata": {
        "id": "XXMoKg-8NN2N"
      },
      "source": [
        "!ln -s \"/content/gdrive/My Drive/Colab Data/ch5\" \"/content/data\""
      ],
      "execution_count": null,
      "outputs": []
    },
    {
      "cell_type": "markdown",
      "metadata": {
        "id": "0IT7tf68u7u4"
      },
      "source": [
        "Read the YouTube comments"
      ]
    },
    {
      "cell_type": "code",
      "metadata": {
        "id": "0egY-dipQwWa",
        "outputId": "3ce8ea42-a3ff-4e35-e740-d528a884fb84",
        "colab": {
          "base_uri": "https://localhost:8080/",
          "height": 419
        }
      },
      "source": [
        "import pandas as pd\n",
        "\n",
        "df = pd.read_csv('data/data.csv', encoding=\"utf-8\")\n",
        "df"
      ],
      "execution_count": null,
      "outputs": [
        {
          "output_type": "execute_result",
          "data": {
            "text/html": [
              "<div>\n",
              "<style scoped>\n",
              "    .dataframe tbody tr th:only-of-type {\n",
              "        vertical-align: middle;\n",
              "    }\n",
              "\n",
              "    .dataframe tbody tr th {\n",
              "        vertical-align: top;\n",
              "    }\n",
              "\n",
              "    .dataframe thead th {\n",
              "        text-align: right;\n",
              "    }\n",
              "</style>\n",
              "<table border=\"1\" class=\"dataframe\">\n",
              "  <thead>\n",
              "    <tr style=\"text-align: right;\">\n",
              "      <th></th>\n",
              "      <th>text</th>\n",
              "    </tr>\n",
              "  </thead>\n",
              "  <tbody>\n",
              "    <tr>\n",
              "      <th>0</th>\n",
              "      <td>Best to you &amp; Mrs. Will be praying. We love yo...</td>\n",
              "    </tr>\n",
              "    <tr>\n",
              "      <th>1</th>\n",
              "      <td>Godspeed, Mr. President!</td>\n",
              "    </tr>\n",
              "    <tr>\n",
              "      <th>2</th>\n",
              "      <td>Praying for a speedy recovery for you and the ...</td>\n",
              "    </tr>\n",
              "    <tr>\n",
              "      <th>3</th>\n",
              "      <td>Trump is bad</td>\n",
              "    </tr>\n",
              "    <tr>\n",
              "      <th>4</th>\n",
              "      <td>So glad to see you doing well!!  Thank you for...</td>\n",
              "    </tr>\n",
              "    <tr>\n",
              "      <th>...</th>\n",
              "      <td>...</td>\n",
              "    </tr>\n",
              "    <tr>\n",
              "      <th>8938</th>\n",
              "      <td>You have our prayers and support</td>\n",
              "    </tr>\n",
              "    <tr>\n",
              "      <th>8939</th>\n",
              "      <td>How many comments have you deleted?</td>\n",
              "    </tr>\n",
              "    <tr>\n",
              "      <th>8940</th>\n",
              "      <td>on this channel, none! The us is full of Freed...</td>\n",
              "    </tr>\n",
              "    <tr>\n",
              "      <th>8941</th>\n",
              "      <td>faze joe yeah cool, but I haven’t seen any com...</td>\n",
              "    </tr>\n",
              "    <tr>\n",
              "      <th>8942</th>\n",
              "      <td>I blame George Soros. \\n\\nHe told Trump to not...</td>\n",
              "    </tr>\n",
              "  </tbody>\n",
              "</table>\n",
              "<p>8943 rows × 1 columns</p>\n",
              "</div>"
            ],
            "text/plain": [
              "                                                   text\n",
              "0     Best to you & Mrs. Will be praying. We love yo...\n",
              "1                              Godspeed, Mr. President!\n",
              "2     Praying for a speedy recovery for you and the ...\n",
              "3                                          Trump is bad\n",
              "4     So glad to see you doing well!!  Thank you for...\n",
              "...                                                 ...\n",
              "8938                   You have our prayers and support\n",
              "8939                How many comments have you deleted?\n",
              "8940  on this channel, none! The us is full of Freed...\n",
              "8941  faze joe yeah cool, but I haven’t seen any com...\n",
              "8942  I blame George Soros. \\n\\nHe told Trump to not...\n",
              "\n",
              "[8943 rows x 1 columns]"
            ]
          },
          "metadata": {
            "tags": []
          },
          "execution_count": 5
        }
      ]
    },
    {
      "cell_type": "markdown",
      "metadata": {
        "id": "WadxbX0HuVq1"
      },
      "source": [
        "Encode the comments into vectors"
      ]
    },
    {
      "cell_type": "code",
      "metadata": {
        "id": "M6FDZhU0oysO"
      },
      "source": [
        "import numpy as np\n",
        "import os\n",
        "\n",
        "filename=\"data/bottleneck.dat\"\n",
        "if os.path.exists(filename):\n",
        "    fp = np.memmap(filename, dtype='float32', mode='r', shape=(8943,768))\n",
        "else:\n",
        "    from sentence_transformers import SentenceTransformer\n",
        "    transformer = SentenceTransformer('distilbert-base-nli-stsb-mean-tokens')\n",
        "    transformer.encode(df['text'])\n",
        "    encodings = transformer.encode(df['text'])\n",
        "    fp = np.memmap(filename, dtype='float32', mode='w+', shape=encodings.shape)\n",
        "    fp[:] = encodings[:]\n",
        "    print(encodings.shape)\n"
      ],
      "execution_count": null,
      "outputs": []
    },
    {
      "cell_type": "code",
      "metadata": {
        "id": "DZO6VW0WpLFV",
        "outputId": "9c92357e-71e9-49fd-8e27-b08b766484ea",
        "colab": {
          "base_uri": "https://localhost:8080/",
          "height": 34
        }
      },
      "source": [
        "from sklearn.cluster import DBSCAN\n",
        "clustering = DBSCAN(eps=0.3, min_samples=3, metric='cosine')\n",
        "result = clustering.fit_predict(fp)\n",
        "max(result)"
      ],
      "execution_count": null,
      "outputs": [
        {
          "output_type": "execute_result",
          "data": {
            "text/plain": [
              "32"
            ]
          },
          "metadata": {
            "tags": []
          },
          "execution_count": 9
        }
      ]
    },
    {
      "cell_type": "code",
      "metadata": {
        "id": "vruXtEZOqxo_",
        "outputId": "26f8aece-8328-4fe4-a0d7-9e14c62d0cc0",
        "colab": {
          "base_uri": "https://localhost:8080/",
          "height": 612
        }
      },
      "source": [
        "df['result'] = result\n",
        "df.to_csv('data/clustered_result.csv', encoding=\"utf-8\")\n",
        "df['result'].value_counts()"
      ],
      "execution_count": null,
      "outputs": [
        {
          "output_type": "execute_result",
          "data": {
            "text/plain": [
              " 0     6061\n",
              "-1     2711\n",
              " 1       28\n",
              " 4       15\n",
              " 3       11\n",
              " 17       8\n",
              " 15       8\n",
              " 6        7\n",
              " 12       6\n",
              " 5        6\n",
              " 8        5\n",
              " 18       5\n",
              " 23       4\n",
              " 13       4\n",
              " 9        4\n",
              " 22       4\n",
              " 16       4\n",
              " 10       4\n",
              " 32       3\n",
              " 24       3\n",
              " 25       3\n",
              " 2        3\n",
              " 31       3\n",
              " 26       3\n",
              " 11       3\n",
              " 19       3\n",
              " 20       3\n",
              " 28       3\n",
              " 21       3\n",
              " 29       3\n",
              " 14       3\n",
              " 30       3\n",
              " 7        3\n",
              " 27       3\n",
              "Name: result, dtype: int64"
            ]
          },
          "metadata": {
            "tags": []
          },
          "execution_count": 10
        }
      ]
    },
    {
      "cell_type": "markdown",
      "metadata": {
        "id": "oBEl_3_7vHm-"
      },
      "source": [
        "Save the vectors and metadata for projector"
      ]
    },
    {
      "cell_type": "code",
      "metadata": {
        "id": "fSkdO1rsHxzP"
      },
      "source": [
        "vectors = pd.DataFrame(fp)\n",
        "vectors.to_csv('data/vectors.tsv', sep='\\t', header=False, index=False)\n",
        "\n",
        "meta = df.copy()\n",
        "meta['text'] = meta['text'].apply(lambda x: x.split('\\n')[0])\n",
        "meta.to_csv('data/meta.tsv', sep='\\t', index=False)\n"
      ],
      "execution_count": null,
      "outputs": []
    },
    {
      "cell_type": "markdown",
      "metadata": {
        "id": "s7KfQ4Icvcqt"
      },
      "source": [
        "Clustering with specific number of clusters"
      ]
    },
    {
      "cell_type": "code",
      "metadata": {
        "id": "gdkNTwHRfxwe",
        "outputId": "dbf3cb39-8512-4ea0-b61f-3b10e19e62ea",
        "colab": {
          "base_uri": "https://localhost:8080/",
          "height": 34
        }
      },
      "source": [
        "distance.euclidean(transformer.encode('Queen'), transformer.encode('King') - transformer.encode('Male') + transformer.encode('Female'))"
      ],
      "execution_count": null,
      "outputs": [
        {
          "output_type": "execute_result",
          "data": {
            "text/plain": [
              "11.848694801330566"
            ]
          },
          "metadata": {
            "tags": []
          },
          "execution_count": 12
        }
      ]
    },
    {
      "cell_type": "code",
      "metadata": {
        "id": "cuMq9Fke93nb",
        "outputId": "40380878-1f40-4862-864f-7dd4e75fd6d1",
        "colab": {
          "base_uri": "https://localhost:8080/",
          "height": 221
        }
      },
      "source": [
        "from sklearn.cluster import Birch\n",
        "clustering = Birch(threshold=12.7, n_clusters=None)\n",
        "result = clustering.fit_predict(fp)\n",
        "df['result'] = result\n",
        "df['result'].value_counts()"
      ],
      "execution_count": null,
      "outputs": [
        {
          "output_type": "execute_result",
          "data": {
            "text/plain": [
              "0      981\n",
              "1      916\n",
              "7      640\n",
              "193    598\n",
              "2      577\n",
              "      ... \n",
              "290      1\n",
              "189      1\n",
              "274      1\n",
              "197      1\n",
              "171      1\n",
              "Name: result, Length: 291, dtype: int64"
            ]
          },
          "metadata": {
            "tags": []
          },
          "execution_count": 7
        }
      ]
    },
    {
      "cell_type": "code",
      "metadata": {
        "id": "BwJ6YG2W3fUY"
      },
      "source": [
        "vc = df['result'].value_counts()\n",
        "result[df['result'].isin(vc[vc <= 10].index.values)]=-1\n",
        "df['result'] = result"
      ],
      "execution_count": null,
      "outputs": []
    },
    {
      "cell_type": "code",
      "metadata": {
        "id": "V0SeLsjUE2Td"
      },
      "source": [
        "df.to_csv('data/clustered_result.csv', encoding=\"utf-8\")"
      ],
      "execution_count": null,
      "outputs": []
    },
    {
      "cell_type": "code",
      "metadata": {
        "id": "wpk5nQa59x2K",
        "outputId": "93472deb-0b64-4e6b-f33e-35324de78b98",
        "colab": {
          "base_uri": "https://localhost:8080/",
          "height": 34
        }
      },
      "source": [
        "len(df['result'].value_counts())"
      ],
      "execution_count": null,
      "outputs": [
        {
          "output_type": "execute_result",
          "data": {
            "text/plain": [
              "43"
            ]
          },
          "metadata": {
            "tags": []
          },
          "execution_count": 22
        }
      ]
    },
    {
      "cell_type": "code",
      "metadata": {
        "id": "tL6FSg1lNGOe",
        "outputId": "b18fc7e7-14ea-4dc8-ab6e-c8f9d2f05eda",
        "colab": {
          "base_uri": "https://localhost:8080/",
          "height": 765
        }
      },
      "source": [
        "df['result'].value_counts()"
      ],
      "execution_count": null,
      "outputs": [
        {
          "output_type": "execute_result",
          "data": {
            "text/plain": [
              " 0      981\n",
              " 1      916\n",
              " 7      640\n",
              " 193    598\n",
              " 2      577\n",
              "-1      500\n",
              " 11     479\n",
              " 222    469\n",
              " 256    405\n",
              " 5      337\n",
              " 18     335\n",
              " 138    334\n",
              " 261    299\n",
              " 247    253\n",
              " 199    238\n",
              " 262    174\n",
              " 6      139\n",
              " 279    134\n",
              " 282    130\n",
              " 40     127\n",
              " 36      94\n",
              " 67      93\n",
              " 12      86\n",
              " 95      81\n",
              " 174     76\n",
              " 275     66\n",
              " 20      39\n",
              " 146     33\n",
              " 123     31\n",
              " 96      29\n",
              " 48      29\n",
              " 140     25\n",
              " 286     24\n",
              " 141     23\n",
              " 202     22\n",
              " 253     20\n",
              " 270     18\n",
              " 28      18\n",
              " 108     18\n",
              " 152     16\n",
              " 213     13\n",
              " 209     13\n",
              " 251     11\n",
              "Name: result, dtype: int64"
            ]
          },
          "metadata": {
            "tags": []
          },
          "execution_count": 23
        }
      ]
    },
    {
      "cell_type": "code",
      "metadata": {
        "id": "IB5pP-Ca-Fmg"
      },
      "source": [
        "meta = df.copy()\n",
        "meta['text'] = meta['text'].apply(lambda x: x.split('\\n')[0])\n",
        "meta.to_csv('data/meta.tsv', sep='\\t', index=False)"
      ],
      "execution_count": null,
      "outputs": []
    },
    {
      "cell_type": "code",
      "metadata": {
        "id": "nFc4Sng9NdYk"
      },
      "source": [
        "clustering = Birch(threshold=10, n_clusters=15)\n",
        "result = clustering.fit_predict(fp)\n",
        "df['result'] = result\n",
        "df['result'].value_counts()\n",
        "df.to_csv('data/clustered_result.csv', encoding=\"utf-8\")\n",
        "meta = df.copy()\n",
        "meta['text'] = meta['text'].apply(lambda x: x.split('\\n')[0])\n",
        "meta.to_csv('data/meta.tsv', sep='\\t', index=False)"
      ],
      "execution_count": null,
      "outputs": []
    },
    {
      "cell_type": "code",
      "metadata": {
        "id": "hGQwV-fPOKO8",
        "outputId": "9a899123-cc13-4f25-be0b-ddeb495f9e7a",
        "colab": {
          "base_uri": "https://localhost:8080/",
          "height": 289
        }
      },
      "source": [
        "df['result'].value_counts()"
      ],
      "execution_count": null,
      "outputs": [
        {
          "output_type": "execute_result",
          "data": {
            "text/plain": [
              "13    2032\n",
              "1     1565\n",
              "8     1365\n",
              "6      594\n",
              "9      506\n",
              "12     454\n",
              "0      450\n",
              "14     418\n",
              "4      375\n",
              "5      308\n",
              "2      230\n",
              "3      212\n",
              "7      171\n",
              "10     142\n",
              "11     121\n",
              "Name: result, dtype: int64"
            ]
          },
          "metadata": {
            "tags": []
          },
          "execution_count": 26
        }
      ]
    }
  ]
}